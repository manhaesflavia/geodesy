{
 "cells": [
  {
   "cell_type": "code",
   "execution_count": 1,
   "metadata": {},
   "outputs": [
    {
     "data": {
      "text/plain": [
       "'\\n- Achatamento\\n- A primeira excentricidade ao quadrado.\\n- A segunda excentricidade ao quadrado.\\n- Calcular a grande normal e pequena normal considerando a latitude geodésica do ponto P = 08graus25minutos36segundos\\n- A distância D do ponto ao centro do elipsóide\\n- Calcular a Latitude Geocêntrica'"
      ]
     },
     "execution_count": 1,
     "metadata": {},
     "output_type": "execute_result"
    }
   ],
   "source": [
    "# Cálculo de alguns dos elementos do elipsóide\n",
    "\n",
    "'''\n",
    "- Achatamento\n",
    "- A primeira excentricidade ao quadrado.\n",
    "- A segunda excentricidade ao quadrado.\n",
    "- Calcular a grande normal e pequena normal considerando a latitude geodésica do ponto P = 08graus25minutos36segundos\n",
    "- A distância D do ponto ao centro do elipsóide\n",
    "- Calcular a Latitude Geocêntrica'''"
   ]
  },
  {
   "cell_type": "code",
   "execution_count": 1,
   "metadata": {},
   "outputs": [],
   "source": [
    "# Bibliotecas Utilizadas\n",
    "import numpy as np\n",
    "import pandas as pd"
   ]
  },
  {
   "cell_type": "code",
   "execution_count": 11,
   "metadata": {},
   "outputs": [
    {
     "data": {
      "text/html": [
       "<div>\n",
       "<style scoped>\n",
       "    .dataframe tbody tr th:only-of-type {\n",
       "        vertical-align: middle;\n",
       "    }\n",
       "\n",
       "    .dataframe tbody tr th {\n",
       "        vertical-align: top;\n",
       "    }\n",
       "\n",
       "    .dataframe thead th {\n",
       "        text-align: right;\n",
       "    }\n",
       "</style>\n",
       "<table border=\"1\" class=\"dataframe\">\n",
       "  <thead>\n",
       "    <tr style=\"text-align: right;\">\n",
       "      <th></th>\n",
       "      <th>Elipsoide</th>\n",
       "      <th>a (semi-eixo maior)</th>\n",
       "      <th>b (semi-eixo menor)</th>\n",
       "      <th>Aluno</th>\n",
       "    </tr>\n",
       "  </thead>\n",
       "  <tbody>\n",
       "    <tr>\n",
       "      <th>0</th>\n",
       "      <td>Clarke 1866</td>\n",
       "      <td>6378206.400</td>\n",
       "      <td>6356583.800</td>\n",
       "      <td>João</td>\n",
       "    </tr>\n",
       "    <tr>\n",
       "      <th>1</th>\n",
       "      <td>GRS 1980</td>\n",
       "      <td>6378137.000</td>\n",
       "      <td>6356752.314</td>\n",
       "      <td>Luis Augusto</td>\n",
       "    </tr>\n",
       "    <tr>\n",
       "      <th>2</th>\n",
       "      <td>Bessel 1841</td>\n",
       "      <td>6377397.155</td>\n",
       "      <td>6356078.965</td>\n",
       "      <td>Jailson</td>\n",
       "    </tr>\n",
       "    <tr>\n",
       "      <th>3</th>\n",
       "      <td>Internacional de Hayford 1924</td>\n",
       "      <td>6378388.000</td>\n",
       "      <td>6356911.946</td>\n",
       "      <td>Leonardo</td>\n",
       "    </tr>\n",
       "    <tr>\n",
       "      <th>4</th>\n",
       "      <td>Internacional de 1967</td>\n",
       "      <td>6378160.000</td>\n",
       "      <td>6356774.719</td>\n",
       "      <td>Ivanise</td>\n",
       "    </tr>\n",
       "    <tr>\n",
       "      <th>5</th>\n",
       "      <td>GRS80</td>\n",
       "      <td>6378137.000</td>\n",
       "      <td>6356752.314</td>\n",
       "      <td>Raul</td>\n",
       "    </tr>\n",
       "    <tr>\n",
       "      <th>6</th>\n",
       "      <td>G.B. Airy 1830</td>\n",
       "      <td>6377563.400</td>\n",
       "      <td>6356256.910</td>\n",
       "      <td>Eunnyce</td>\n",
       "    </tr>\n",
       "    <tr>\n",
       "      <th>7</th>\n",
       "      <td>Airy 1830 modificada</td>\n",
       "      <td>6377340.189</td>\n",
       "      <td>6356034.447</td>\n",
       "      <td>Luiz Henrique</td>\n",
       "    </tr>\n",
       "  </tbody>\n",
       "</table>\n",
       "</div>"
      ],
      "text/plain": [
       "                       Elipsoide  a (semi-eixo maior)  b (semi-eixo menor)  \\\n",
       "0                    Clarke 1866          6378206.400          6356583.800   \n",
       "1                       GRS 1980          6378137.000          6356752.314   \n",
       "2                    Bessel 1841          6377397.155          6356078.965   \n",
       "3  Internacional de Hayford 1924          6378388.000          6356911.946   \n",
       "4          Internacional de 1967          6378160.000          6356774.719   \n",
       "5                          GRS80          6378137.000          6356752.314   \n",
       "6                 G.B. Airy 1830          6377563.400          6356256.910   \n",
       "7           Airy 1830 modificada          6377340.189          6356034.447   \n",
       "\n",
       "           Aluno  \n",
       "0           João  \n",
       "1   Luis Augusto  \n",
       "2        Jailson  \n",
       "3       Leonardo  \n",
       "4        Ivanise  \n",
       "5           Raul  \n",
       "6        Eunnyce  \n",
       "7  Luiz Henrique  "
      ]
     },
     "execution_count": 11,
     "metadata": {},
     "output_type": "execute_result"
    }
   ],
   "source": [
    "# Parâmetros do elipsoide\n",
    "\n",
    "# DADOS DE ENTRADA\n",
    "\n",
    "parametrosElipsoides =pd.read_csv(\"H:\\Meu Drive/Mestrado/GEODÉSIA/ESTÁGIO DOCÊNCIA/ELEMENTOS DO ELIPSOIDE/Elipsoides de Referência - Página3.csv\",\n",
    " sep=\";\") #importando os dados dos elipsoides\n",
    "\n",
    "\n",
    "parametrosElipsoides"
   ]
  },
  {
   "cell_type": "code",
   "execution_count": 3,
   "metadata": {},
   "outputs": [
    {
     "data": {
      "text/plain": [
       "' \\n# Elipsoide Internacional de Hayford 1924\\nprint(\"Elipsoide Internacional de Hayford 1924\")\\nelementosElipsoide(parametrosElipsoides.loc[parametrosElipsoides[\\'Elipsoide\\'] == \\'Internacional de Hayford 1924\\',     \\'a (semi-eixo maior)\\'].iloc[0],parametrosElipsoides.loc[parametrosElipsoides[\\'Elipsoide\\'] == \\'Internacional de Hayford 1924\\',          \\'b (semi-eixo menor)\\'].iloc[0],\"\")\\nprint(\"---------------------------------------------------\")\\n\\n'"
      ]
     },
     "execution_count": 3,
     "metadata": {},
     "output_type": "execute_result"
    }
   ],
   "source": [
    "# Função para calcular os parâmetros do elipsoide\n",
    "def elementosElipsoide(a,b,parametroDeInteresse):\n",
    "    # Achatamento (f)\n",
    "    f=round((a-b)/a,5)\n",
    "\n",
    "    # Primeira Excentricidade ao quadrado (e^2)\n",
    "    e_2=round(((a**2-b**2)/(a**2)),5)\n",
    "\n",
    "    # Segunda Excentricidade ao quadrado (e'^2)\n",
    "    e_2_2=round(((a**2-b**2)/(b**2)),5)\n",
    "\n",
    "    if parametroDeInteresse==\"e_2\":\n",
    "        return e_2\n",
    "    elif parametroDeInteresse==\"f\":\n",
    "        return f\n",
    "    elif parametroDeInteresse==\"e_2_2\":\n",
    "        return e_2_2\n",
    "    else:\n",
    "        print (\"Achatamento: \",f)\n",
    "        print (\"Primeira Excentricidade ao quadrado: \",e_2)\n",
    "        print (\"Segunda Excentricidade ao quadrado: \",e_2_2)\n",
    "        return \n"
   ]
  },
  {
   "cell_type": "code",
   "execution_count": 9,
   "metadata": {},
   "outputs": [],
   "source": [
    "def dms2dd(degrees, minutes, seconds, direction):\n",
    "    dd = float(degrees) + float(minutes)/60 + float(seconds)/(60*60);\n",
    "    if direction == 'W' or direction == 'S':\n",
    "        dd *= -1\n",
    "    return dd\n",
    "\n",
    "\n",
    "def calculoDaNormal(a,b,latitudeGD,qualNormal):\n",
    "    # Primeira Excentricidade ao quadrado (e^2)\n",
    "    e_2=((a**2-b**2)/(a**2))\n",
    "\n",
    "    # Grande Normal (N)\n",
    "    grandeN=(a/np.sqrt(1-e_2*((np.sin(np.radians(latitudeGD))**2))))\n",
    "    \n",
    "    # Pequena Normal\n",
    "    pequenaN=grandeN*(1-e_2)\n",
    "\n",
    "    # Raio da Curvatura da Seção Meridiana\n",
    "    M_num=a*(1-e_2)\n",
    "    M_den=((1-(e_2*(np.sin(np.radians(latitudeGD))**2)))**(2/3))\n",
    "    M=M_num/M_den\n",
    "\n",
    "    # Raio Médio de Curvatura\n",
    "    RM=((grandeN*M)**(1/2))\n",
    "\n",
    "    # Curvatura Média\n",
    "    CM=(1/RM)\n",
    "\n",
    "    # Distância D\n",
    "    x=(grandeN*np.cos(np.radians(latitudeGD)))\n",
    "    y=(pequenaN*np.sin(np.radians(latitudeGD)))\n",
    "    D=(np.sqrt(x**2+y**2))\n",
    "\n",
    "    latGeoc=((1-e_2)*np.tan(np.radians(latitudeGD)))\n",
    "\n",
    "    if qualNormal==\"grande\":\n",
    "        return grandeN\n",
    "    elif qualNormal==\"pequena\":\n",
    "        return pequenaN\n",
    "    else: \n",
    "        print(\"Grande Normal: \", grandeN)\n",
    "        print(\"Pequena Normal: \", pequenaN)\n",
    "        print(\"Distância D: \", D)\n",
    "        print (\"Raio da Curvatura da Seção Meridiana: \",M)\n",
    "        print (\"Raio Médio de Curvatura: \",RM)\n",
    "        print (\"Curvatura Média: \",CM)\n",
    "        print (\"latGeoc: \",latGeoc)\n",
    "\n"
   ]
  },
  {
   "cell_type": "code",
   "execution_count": 61,
   "metadata": {},
   "outputs": [
    {
     "data": {
      "text/plain": [
       "[0, 7, 46.107552124657914]"
      ]
     },
     "execution_count": 61,
     "metadata": {},
     "output_type": "execute_result"
    }
   ],
   "source": [
    "def dd2dms(deg):\n",
    "    d = int(deg)\n",
    "    md = abs(deg - d) * 60\n",
    "    m = int(md)\n",
    "    sd = (md - m) * 60\n",
    "    return [d, m, sd]\n",
    "\n",
    "dd2dms(0.1294743200346272)"
   ]
  }
 ],
 "metadata": {
  "interpreter": {
   "hash": "b3ba2566441a7c06988d0923437866b63cedc61552a5af99d1f4fb67d367b25f"
  },
  "kernelspec": {
   "display_name": "Python 3.7.6 64-bit ('base': conda)",
   "name": "python3"
  },
  "language_info": {
   "codemirror_mode": {
    "name": "ipython",
    "version": 3
   },
   "file_extension": ".py",
   "mimetype": "text/x-python",
   "name": "python",
   "nbconvert_exporter": "python",
   "pygments_lexer": "ipython3",
   "version": "3.7.6"
  },
  "orig_nbformat": 4
 },
 "nbformat": 4,
 "nbformat_minor": 2
}
